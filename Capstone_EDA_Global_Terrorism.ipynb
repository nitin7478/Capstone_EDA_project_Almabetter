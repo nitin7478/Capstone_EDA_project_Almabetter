{
  "cells": [
    {
      "cell_type": "markdown",
      "metadata": {
        "id": "view-in-github",
        "colab_type": "text"
      },
      "source": [
        "<a href=\"https://colab.research.google.com/github/nitin7478/Capstone_EDA_project_Almabetter/blob/main/Capstone_EDA_Global_Terrorism.ipynb\" target=\"_parent\"><img src=\"https://colab.research.google.com/assets/colab-badge.svg\" alt=\"Open In Colab\"/></a>"
      ]
    },
    {
      "cell_type": "markdown",
      "metadata": {
        "id": "vncDsAP0Gaoa"
      },
      "source": [
        "# **Project Name**    - Global Terrorism Data Analysis\n",
        "\n"
      ]
    },
    {
      "cell_type": "markdown",
      "metadata": {
        "id": "beRrZCGUAJYm"
      },
      "source": [
        "##### **Project Type**    - EDA\n",
        "##### **Contribution**    - Individual"
      ]
    },
    {
      "cell_type": "markdown",
      "metadata": {
        "id": "F6v_1wHtG2nS"
      },
      "source": [
        "Terrorism has been a persistent problem for the world for the past one hundred years. The two World Wars and the Cold War have been marked by acts of terrorism, and the post-9/11 era has seen a sharp increase in terrorist activities.In 2021,the ressurgence of Taliban in South Asia had destabalized the region Over the years, terrorist groups have used various tactics such as suicide bombings, hijackings, and cyberattacks to create fear and instability. The rise of extremist ideologies and the proliferation of weapons have made it easier for these groups to carry out their attacks. Despite efforts by governments and international organizations to combat terrorism, it remains a significant threat to global peace and security. Vigilance and coordinated action are required to effectively address this problem.\n",
        "\n",
        "\n",
        "The Global Terrorism Dataset examines all instances of terrorism that have taken place since 1970. The dataset covers a range of categories and provides concise information about the affected region, the type of attack, the types of weapons used, the various types of targets and subcategories, the number of fatalities, and the extent of property damage.\n",
        "\n",
        "The primary focus of the EDA project is to examine the trends and inter-relationships between the different categories. The project provides insights into the trends related to the specific category that has been studied by the Institute of Economics and Peace. For instance, it explores the correlation between the affected region and the preferred type of attack. Additionally, the analysis delves deeper to answer questions such as whether there is a relationship between the attacked region and the preferred type of target or weapon. This information can be used by countries and regions to better understand the specific issues that affect them and to develop more targeted solutions.\n",
        "\n",
        "The world can anticipate the contributions of enthusiastic and compassionate data analysts who can generate valuable insights into ongoing terror attacks. These efforts would aid countries in creating effective policies, forming stronger coalitions, promoting cooperation, and implementing comprehensive steps to combat terrorism.\n",
        "\n",
        "This project summarise all the information and insights which could help countries to track the trends and correlation between terror attacks."
      ]
    },
    {
      "cell_type": "markdown",
      "metadata": {
        "id": "w6K7xa23Elo4"
      },
      "source": [
        "# **GitHub Link -**"
      ]
    },
    {
      "cell_type": "markdown",
      "metadata": {
        "id": "h1o69JH3Eqqn"
      },
      "source": [
        "https://github.com/nitin7478/Capstone_EDA_project_Almabetter"
      ]
    },
    {
      "cell_type": "markdown",
      "metadata": {
        "id": "yQaldy8SH6Dl"
      },
      "source": [
        "# **Problem Statement**\n"
      ]
    },
    {
      "cell_type": "markdown",
      "metadata": {
        "id": "yaOaVEIqDh6e"
      },
      "source": [
        "**Following are some most important questions,studied in Global Terrorism Datset.**"
      ]
    },
    {
      "cell_type": "markdown",
      "metadata": {
        "id": "DpeJGUA3kjGy"
      },
      "source": [
        "\n",
        "The threat of terrorism remains a pressing concern for governments, businesses, and individuals around the world. Despite significant efforts to combat terrorism, the number of incidents and the severity of their impact continue to escalate. For businesses operating in high-risk regions, the risk of terrorism is a significant concern, with financial losses, disrupted operations, and reputational damage among the potential consequences.\n",
        "\n",
        "However, there is a lack of comprehensive and easily accessible information about global terrorism incidents, which makes it difficult for businesses to effectively manage the risk of terrorism. While there are various sources of data on terrorism incidents, these are often incomplete, inconsistent, and difficult to analyze.\n",
        "\n",
        "The purpose of this capstone project is to address this problem by conducting a comprehensive analysis of global terrorism data. By leveraging data analytics techniques, this project aims to provide a detailed understanding of the patterns and trends of terrorism incidents, including the geographical distribution, the types of attacks, the motivations behind the attacks, and the impact on businesses.\n",
        "\n",
        "The findings of this project will be valuable to businesses operating in high-risk regions, as well as those in the transportation, tourism, hospitality, and infrastructure industries. By providing insights into the nature of the terrorism threat, this project will enable businesses to better understand the risks they face and to develop effective strategies to mitigate those risks.\n",
        "\n",
        "Overall, this project will contribute to the broader conversation on global terrorism by providing a data-driven perspective on the patterns and trends of terrorist incidents, and by identifying areas where additional research and analysis are needed to address this pressing global challenge.\n",
        "> 1) Number of terrorist activities in different 12 regions over the time period(1970-2017).  \n",
        "\n",
        "> 2) Total number of terrorist activities in the world, year wise.\n",
        "\n",
        "> 3) Total number of terrorist activities in all 12 regions of the world.\n",
        "\n",
        "> 4) Type of activities/attacks were mostly used by terrorists.\n",
        "\n",
        "> 5) Most Targeted type attacked by the terrorists.  \n",
        "\n",
        "> 6) Top Countries which are most susceptible to terrorist activities.\n",
        "\n",
        "> 7) Number of attacks in each region over the years 1970 to 2017.\n",
        "\n",
        "> 8) Trend of type of terrorist activities over the period 1970-2017.\n",
        "\n",
        "> 9) Most active terrorist organizations across the world.\n",
        "\n",
        "> 10) Examining the correlation between different factors and categories associated with terrorist attacks and incidents."
      ]
    },
    {
      "cell_type": "markdown",
      "metadata": {
        "id": "PH-0ReGfmX4f"
      },
      "source": [
        "#### **Define Your Business Objective?**"
      ]
    },
    {
      "cell_type": "markdown",
      "metadata": {
        "id": "PhDvGCAqmjP1"
      },
      "source": [
        "The global threat of terrorism has been a major concern for governments, businesses, and individuals around the world for decades. The impact of terrorism on businesses is significant, including financial losses, damaged reputation, and disrupted operations. The need to effectively manage the risk of terrorism has become increasingly important for businesses, particularly those operating in high-risk regions.\n",
        "\n",
        "The purpose of this capstone project is to *analyze* global terrorism data and provide *insights* into the patterns and trends of terrorism incidents. This analysis will assist businesses in understanding *the risks associated with terrorism and developing strategies* to mitigate those risks. By leveraging the power of data analytics, this project aims to provide a comprehensive view of the global terrorism landscape, including the geographical distribution of incidents, the types of attacks, the motivations behind the attacks, and the impact on businesses.\n",
        "\n",
        "The findings of this project will be relevant to businesses operating in high-risk regions, such as the Middle East, Africa, and South Asia, as well as those in the transportation, tourism, hospitality, and infrastructure industries. The insights generated from this analysis will help businesses to identify areas of vulnerability and prioritize risk mitigation efforts. In addition, this project will contribute to the broader conversation on global terrorism by providing a data-driven perspective on the patterns and trends of terrorist incidents."
      ]
    },
    {
      "cell_type": "markdown",
      "metadata": {
        "id": "mDgbUHAGgjLW"
      },
      "source": [
        "# **General Guidelines** : -  "
      ]
    },
    {
      "cell_type": "markdown",
      "metadata": {
        "id": "ZrxVaUj-hHfC"
      },
      "source": [
        "1.   Well-structured, formatted, and commented code is required.\n",
        "2.   Exception Handling, Production Grade Code & Deployment Ready Code will be a plus. Those students will be awarded some additional credits.\n",
        "     \n",
        "     The additional credits will have advantages over other students during Star Student selection.\n",
        "       \n",
        "             [ Note: - Deployment Ready Code is defined as, the whole .ipynb notebook should be executable in one go\n",
        "                       without a single error logged. ]\n",
        "\n",
        "3.   Each and every logic should have proper comments.\n",
        "4. You may add as many number of charts you want. Make Sure for each and every chart the following format should be answered.\n",
        "        \n",
        "\n",
        "```\n",
        "# Chart visualization code\n",
        "```\n",
        "            \n",
        "\n",
        "*   Why did you pick the specific chart?\n",
        "*   What is/are the insight(s) found from the chart?\n",
        "* Will the gained insights help creating a positive business impact?\n",
        "Are there any insights that lead to negative growth? Justify with specific reason.\n",
        "\n",
        "5. You have to create at least 20 logical & meaningful charts having important insights.\n",
        "\n",
        "\n",
        "[ Hints : - Do the Vizualization in  a structured way while following \"UBM\" Rule.\n",
        "\n",
        "U - Univariate Analysis,\n",
        "\n",
        "B - Bivariate Analysis (Numerical - Categorical, Numerical - Numerical, Categorical - Categorical)\n",
        "\n",
        "M - Multivariate Analysis\n",
        " ]\n",
        "\n",
        "\n",
        "\n"
      ]
    },
    {
      "cell_type": "markdown",
      "metadata": {
        "id": "O_i_v8NEhb9l"
      },
      "source": [
        "# ***Let's Begin !***"
      ]
    },
    {
      "cell_type": "markdown",
      "metadata": {
        "id": "HhfV-JJviCcP"
      },
      "source": [
        "## ***1. Know Your Data***"
      ]
    },
    {
      "cell_type": "markdown",
      "metadata": {
        "id": "Y3lxredqlCYt"
      },
      "source": [
        "### Import Libraries"
      ]
    },
    {
      "cell_type": "markdown",
      "metadata": {
        "id": "c3RvjbAcDh6g"
      },
      "source": [
        "Note : If you are using vscode then create conda environment and install required packages."
      ]
    },
    {
      "cell_type": "code",
      "execution_count": null,
      "metadata": {
        "id": "M8Vqi-pPk-HR"
      },
      "outputs": [],
      "source": [
        "# Import Libraries\n",
        "import pandas as pd\n",
        "import numpy as np\n",
        "import ast\n",
        "import matplotlib as mpl\n",
        "import matplotlib.pyplot as plt\n",
        "pd.set_option(\"display.max_columns\", None) # to show all the columns\n",
        "import seaborn as sns\n",
        "from scipy.stats import mode\n",
        "%matplotlib inline"
      ]
    },
    {
      "cell_type": "markdown",
      "metadata": {
        "id": "3RnN4peoiCZX"
      },
      "source": [
        "### Dataset Loading"
      ]
    },
    {
      "cell_type": "code",
      "execution_count": null,
      "metadata": {
        "id": "5cjmUXpLDh6h"
      },
      "outputs": [],
      "source": [
        "# We are downloading and compressing dataset from project link. so that we can upload it to github and use it.\n",
        "# Github is having restrictions of 100mb size, hence we are compressing here\n",
        "# import gzip\n",
        "# import shutil\n",
        "\n",
        "# csv_file_path = r\"D:\\github\\Capstone_EDA_project_Almabetter\\dataset\\Global Terrorism Data.csv\"\n",
        "# gzipped_file_path = r\"D:\\github\\Capstone_EDA_project_Almabetter\\dataset\\dataset.csv.gz\"\n",
        "\n",
        "# with open(csv_file_path, 'rb') as csv_file:\n",
        "#     with gzip.open(gzipped_file_path, 'wb') as gzipped_file:\n",
        "#         shutil.copyfileobj(csv_file, gzipped_file)\n",
        "\n",
        "# print(f\"CSV file '{csv_file_path}' compressed to '{gzipped_file_path}'\")"
      ]
    },
    {
      "cell_type": "code",
      "execution_count": null,
      "metadata": {
        "id": "kBD4mgyCDh6h"
      },
      "outputs": [],
      "source": [
        "# import os\n",
        "# ROOT_DIR = os.getcwd()\n",
        "# file_path = os.path.join(ROOT_DIR , 'dataset' , 'dataset.csv.gz')"
      ]
    },
    {
      "cell_type": "code",
      "source": [
        "# now we have compressed our dataset and uploaded on my github\n",
        "# we will use same file from github\n",
        "url = r'https://github.com/nitin7478/Capstone_EDA_project_Almabetter/raw/main/dataset/dataset.csv.gz'"
      ],
      "metadata": {
        "id": "QDrwDMaDEXLh"
      },
      "execution_count": null,
      "outputs": []
    },
    {
      "cell_type": "code",
      "execution_count": null,
      "metadata": {
        "id": "4CkvbW_SlZ_R"
      },
      "outputs": [],
      "source": [
        "# Load Dataset\n",
        "df=pd.read_csv(url, encoding='ISO-8859-1' , compression='gzip', low_memory=False)\n",
        "# We will only take importand columns as per dataset description\n",
        "df.rename(columns={'iyear':'Year','imonth':'Month','iday':'Day','country_txt':'Country',\n",
        "                       'region_txt':'Region','attacktype1_txt':'AttackType','target1':'Target',\n",
        "                       'nkill':'Killed','nwound':'Wounded','summary':'Summary','gname':'Group',\n",
        "                       'targtype1_txt':'Target_type','weaptype1_txt':'Weapon_type','motive':'Motive'},inplace=True)\n",
        "\n",
        "df=df[['Year','Month','Day','Country','Region','city','latitude','longitude','AttackType','Killed',\n",
        "       'Wounded','Target','extended','Group','Target_type','Weapon_type','Motive']]\n"
      ]
    },
    {
      "cell_type": "markdown",
      "metadata": {
        "id": "x71ZqKXriCWQ"
      },
      "source": [
        "### Dataset First View"
      ]
    },
    {
      "cell_type": "code",
      "execution_count": null,
      "metadata": {
        "id": "LWNFOSvLl09H"
      },
      "outputs": [],
      "source": [
        "# Dataset First Look\n",
        "df.head()"
      ]
    },
    {
      "cell_type": "markdown",
      "metadata": {
        "id": "7hBIi_osiCS2"
      },
      "source": [
        "### Dataset Rows & Columns count"
      ]
    },
    {
      "cell_type": "code",
      "execution_count": null,
      "metadata": {
        "id": "Kllu7SJgmLij"
      },
      "outputs": [],
      "source": [
        "# Dataset Rows & Columns count\n",
        "print(f\"Rows in datase : {len(df)}\")\n",
        "print(f\"Columns in dataset : {len(df.columns)}\")"
      ]
    },
    {
      "cell_type": "markdown",
      "metadata": {
        "id": "JlHwYmJAmNHm"
      },
      "source": [
        "### Dataset Information\n"
      ]
    },
    {
      "cell_type": "code",
      "execution_count": null,
      "metadata": {
        "id": "e9hRXRi6meOf"
      },
      "outputs": [],
      "source": [
        "# Dataset Info\n",
        "df.info(2)"
      ]
    },
    {
      "cell_type": "markdown",
      "metadata": {
        "id": "35m5QtbWiB9F"
      },
      "source": [
        "#### Duplicate Values"
      ]
    },
    {
      "cell_type": "code",
      "execution_count": null,
      "metadata": {
        "id": "1sLdpKYkmox0"
      },
      "outputs": [],
      "source": [
        "# Dataset Duplicate Value Count\n",
        "print(len(df[df.duplicated()]))"
      ]
    },
    {
      "cell_type": "markdown",
      "metadata": {
        "id": "PoPl-ycgm1ru"
      },
      "source": [
        "#### Missing Values/Null Values"
      ]
    },
    {
      "cell_type": "code",
      "execution_count": null,
      "metadata": {
        "id": "GgHWkxvamxVg"
      },
      "outputs": [],
      "source": [
        "# Missing Values/Null Values Count\n",
        "df.isnull().sum()"
      ]
    },
    {
      "cell_type": "code",
      "execution_count": null,
      "metadata": {
        "id": "SU92Lv4XDh6i"
      },
      "outputs": [],
      "source": [
        "percent_missing = df.isnull().sum() * 100 / len(df)\n",
        "percent_missing"
      ]
    },
    {
      "cell_type": "code",
      "execution_count": null,
      "metadata": {
        "id": "fW1eyusoDh6i"
      },
      "outputs": [],
      "source": [
        "# Missing values\n",
        "plt.figure(figsize=(17, 10))\n",
        "sns.heatmap(df.isnull(), cbar=False, cmap='viridis')\n",
        "plt.title('Missing Values Heatmap')\n",
        "plt.show()"
      ]
    },
    {
      "cell_type": "code",
      "execution_count": null,
      "metadata": {
        "id": "D8LLSMxeDh6i"
      },
      "outputs": [],
      "source": [
        "# Visualize missing values as a bar chart\n",
        "missing_percentage = df.isnull().mean() * 100\n",
        "missing_percentage = missing_percentage[missing_percentage > 0]\n",
        "missing_percentage.sort_values(inplace=True , ascending=False)\n",
        "print(missing_percentage)\n"
      ]
    },
    {
      "cell_type": "code",
      "execution_count": null,
      "metadata": {
        "id": "_1158rbUDh6i"
      },
      "outputs": [],
      "source": [
        "df['Weapon_type'].unique()"
      ]
    },
    {
      "cell_type": "markdown",
      "metadata": {
        "id": "H0kj-8xxnORC"
      },
      "source": [
        "### What did you know about your dataset?"
      ]
    },
    {
      "cell_type": "markdown",
      "metadata": {
        "id": "gfoNAAC-nUe_"
      },
      "source": [
        "Dataset Overview:<br>\n",
        "Contains null values in various columns.<br>\n",
        "\n",
        "Rows in datase : 181691<br>\n",
        "Columns in dataset : 17<br>\n",
        "\n",
        "Lots of missing values in column wounded.<br>\n",
        "\n",
        "9 Categorical Columns.<br>\n",
        "8 Numerical Columns.<br>"
      ]
    },
    {
      "cell_type": "markdown",
      "metadata": {
        "id": "nA9Y7ga8ng1Z"
      },
      "source": [
        "## ***2. Understanding Your Variables***"
      ]
    },
    {
      "cell_type": "code",
      "execution_count": null,
      "metadata": {
        "id": "j7xfkqrt5Ag5"
      },
      "outputs": [],
      "source": [
        "# Dataset Columns\n",
        "df.columns"
      ]
    },
    {
      "cell_type": "code",
      "execution_count": null,
      "metadata": {
        "id": "DnOaZdaE5Q5t"
      },
      "outputs": [],
      "source": [
        "# Dataset Describe\n",
        "df.describe()"
      ]
    },
    {
      "cell_type": "markdown",
      "metadata": {
        "id": "PBTbrJXOngz2"
      },
      "source": [
        "### Variables Description"
      ]
    },
    {
      "cell_type": "markdown",
      "metadata": {
        "id": "aJV4KIxSnxay"
      },
      "source": [
        "The dataset spans from 1970 to 2017, with a mean year around 2002. <br>\n",
        "The months vary from 0 to 12, indicating potential missing or unknown values.<br>\n",
        "Days range from 0 to 31, and like months, there might be missing or unknown values.<br>\n",
        "Latitude ranges from approximately -53.15 to 74.63, and longitude from -86.19 to 179.37.<br>\n",
        "Both \"Killed\" and \"Wounded\" columns have a wide range of values, with significantly higher values in the 75th percentile.<br>\n"
      ]
    },
    {
      "cell_type": "markdown",
      "metadata": {
        "id": "u3PMJOP6ngxN"
      },
      "source": [
        "### Check Unique Values for each variable."
      ]
    },
    {
      "cell_type": "code",
      "execution_count": null,
      "metadata": {
        "id": "zms12Yq5n-jE"
      },
      "outputs": [],
      "source": [
        "# Check Unique Values for each variable.\n",
        "df.nunique().sort_values(ascending=False)"
      ]
    },
    {
      "cell_type": "markdown",
      "metadata": {
        "id": "dauF4eBmngu3"
      },
      "source": [
        "## 3. ***Data Wrangling***"
      ]
    },
    {
      "cell_type": "markdown",
      "metadata": {
        "id": "bKJF3rekwFvQ"
      },
      "source": [
        "### Data Wrangling Code"
      ]
    },
    {
      "cell_type": "code",
      "execution_count": null,
      "metadata": {
        "id": "wk-9a2fpoLcV"
      },
      "outputs": [],
      "source": [
        "# Replace weapon type category which is too long\n",
        "df['Weapon_type'] = df['Weapon_type'].replace(['Vehicle (not to include vehicle-borne explosives, i.e., car or truck bombs)'], 'car or truck bombs')\n",
        "# calculate the proportion of each column.missing val percentahe <60 to retain column.Remove other columns\n",
        "df = df.loc[:, df.isnull().mean() < .6]\n",
        "df.head()"
      ]
    },
    {
      "cell_type": "code",
      "execution_count": null,
      "metadata": {
        "id": "krrp0eRTDh6r"
      },
      "outputs": [],
      "source": [
        "percent_missing = df.isnull().sum() * 100 / len(df)\n",
        "percent_missing # checking percentage of missing value"
      ]
    },
    {
      "cell_type": "markdown",
      "metadata": {
        "id": "MSa1f5Uengrz"
      },
      "source": [
        "### What all manipulations have you done and insights you found?"
      ]
    },
    {
      "cell_type": "markdown",
      "metadata": {
        "id": "LbyXE7I1olp8"
      },
      "source": [
        "The dataset initially contained columns with unreadable names, prompting us to rename them for clarity.\n",
        "\n",
        "With a total of 135 columns in the dataset, a significant portion of them had null values. To streamline our analysis, we focused on columns without less missing values.\n",
        "\n",
        "The decision to narrow down our analysis to columns with very less null values was made to ensure the reliability and completeness of the data used for Exploratory Data Analysis (EDA).\n",
        "\n",
        "The renaming of columns and the selection of those with low null or no null values were crucial steps in preparing the dataset for meaningful insights and conclusions.\n",
        "\n",
        "This process aimed to enhance the readability of the dataset, facilitate effective EDA, and lay the groundwork for subsequent analyses."
      ]
    },
    {
      "cell_type": "markdown",
      "metadata": {
        "id": "GF8Ens_Soomf"
      },
      "source": [
        "## ***4. Data Vizualization, Storytelling & Experimenting with charts : Understand the relationships between variables***"
      ]
    },
    {
      "cell_type": "markdown",
      "metadata": {
        "id": "0wOQAZs5pc--"
      },
      "source": [
        "#### Chart - 1"
      ]
    },
    {
      "cell_type": "markdown",
      "metadata": {
        "id": "MfQwj5EzDh6r"
      },
      "source": [
        "**Number of terrorist Activity Each Year**"
      ]
    },
    {
      "cell_type": "code",
      "execution_count": null,
      "metadata": {
        "id": "7v_ESjsspbW7"
      },
      "outputs": [],
      "source": [
        "plt.subplots(figsize=(15,6))\n",
        "sns.countplot(data=df,x='Year')\n",
        "plt.xticks(rotation=90)\n",
        "plt.title('Number of Terrorist each Year')\n",
        "plt.show()"
      ]
    },
    {
      "cell_type": "markdown",
      "metadata": {
        "id": "K5QZ13OEpz2H"
      },
      "source": [
        "##### 1. Why did you pick the specific chart?"
      ]
    },
    {
      "cell_type": "markdown",
      "metadata": {
        "id": "XESiWehPqBRc"
      },
      "source": [
        "To analyse in which year most terrorist attacks occured as well as very less attacks occured."
      ]
    },
    {
      "cell_type": "markdown",
      "metadata": {
        "id": "lQ7QKXXCp7Bj"
      },
      "source": [
        "##### 2. What is/are the insight(s) found from the chart?"
      ]
    },
    {
      "cell_type": "markdown",
      "metadata": {
        "id": "C_j1G7yiqdRP"
      },
      "source": [
        "1. As we are moving forward we are observing raise in terrost attacks.\n",
        "2. Most of the terrorist attacks were happened in year 2015 followed by 2016.\n",
        "3. We can observe downfall in terrorist attack in recent years from 2015.\n"
      ]
    },
    {
      "cell_type": "markdown",
      "metadata": {
        "id": "448CDAPjqfQr"
      },
      "source": [
        "##### 3. Will the gained insights help creating a positive business impact?\n",
        "Are there any insights that lead to negative growth? Justify with specific reason."
      ]
    },
    {
      "cell_type": "markdown",
      "metadata": {
        "id": "3cspy4FjqxJW"
      },
      "source": [
        "Positive Business Impact:\n",
        "1. Increased Awareness and Preparedness: The insight regarding the rise in<br>\n",
        "terrorist attacks suggests a growing threat landscape.<br>\n",
        "2. Strategic Planning: Knowing that most attacks occurred in 2015 and 2016 <br>\n",
        "allows businesses to strategically plan for potential risks during those years.<br>\n",
        "This insight can be particularly useful for industries such as tourism, where<br>\n",
        "situational awareness is crucial for risk mitigation.<br>\n",
        "\n",
        "Negative Growth:\n",
        "1. Impact on Stability and Investment: The observation of a recent decline <br>\n",
        "in terrorist attacks may lead to negative growth, especially for businesses <br>\n",
        "involved in sectors sensitive to political stability.<br>\n",
        "2. Economic Downturn:While a decline in terrorist attacks could be seen as positive<br>\n",
        "for overall safety, it might also suggest economic downturns or political changes\n",
        "<br> that influence the motivations or capabilities of terrorist groups.\n",
        "\n"
      ]
    },
    {
      "cell_type": "markdown",
      "metadata": {
        "id": "KSlN3yHqYklG"
      },
      "source": [
        "#### Chart - 2"
      ]
    },
    {
      "cell_type": "markdown",
      "source": [
        "Country wise terrorist attacks"
      ],
      "metadata": {
        "id": "7mXqxIPhOsXI"
      }
    },
    {
      "cell_type": "code",
      "execution_count": null,
      "metadata": {
        "id": "R4YgtaqtYklH"
      },
      "outputs": [],
      "source": [
        "#Here we are creating a new dataframe called country_df which is a subset of sub_df containing only the columns 'country', 'total_kills' and 'terrorist_group'\n",
        "country_df = df[['Country', 'Killed', 'Group']].copy()\n",
        "\n",
        "'''We group the country_df by 'country' column, and aggregate the number of times a country appears using count() function\n",
        "We then rename the column to 'total_attacks' and retrieve the 10 countries with the largest number of attacks'''\n",
        "\n",
        "country_wise = df.groupby('Country').agg({'Country': 'count'}).rename(columns={'Country': 'total_attacks'}).nlargest(10, 'total_attacks').reset_index().sort_values('total_attacks', ascending=False)\n",
        "# Set the figure size to 15 inches by 7 inches\n",
        "plt.rcParams['figure.figsize']=(15,7)\n",
        "\n",
        "# Set the font scale for Seaborn plots to 1.3\n",
        "sns.set(font_scale=1.3)\n",
        "\n",
        "# Set the style of the grid to \"whitegrid\"\n",
        "sns.set_style(\"whitegrid\")\n",
        "\n",
        "# Create a bar plot using Seaborn with 'total_attacks' on the x-axis, 'country' on the y-axis, using the 'mako' color palette and assign it to variable 'l'\n",
        "l=sns.barplot(x='total_attacks',y='Country',data=country_wise, hue ='Country' )\n",
        "\n",
        "# Set the title of the plot to 'Country Wise Terrorist Attack - Year 1970-2017', with a font size of 25 and bold font weight\n",
        "l.set_title(\"Country Wise Terrorist Attack   - Year 1970-2017\",fontsize=25,fontweight='bold')\n",
        "\n",
        "# Set the label of the x-axis to 'Total Attacks' with a font size of 20\n",
        "l.set_xlabel('Total Attacks',fontsize=20)\n",
        "\n",
        "# Set the label of the y-axis to 'Country' with a font size of 20\n",
        "l.set_ylabel('Country',fontsize=20)"
      ]
    },
    {
      "cell_type": "markdown",
      "metadata": {
        "id": "t6dVpIINYklI"
      },
      "source": [
        "##### 1. Why did you pick the specific chart?"
      ]
    },
    {
      "cell_type": "markdown",
      "metadata": {
        "id": "5aaW0BYyYklI"
      },
      "source": [
        "Top 10 countries where terrorist attacks are in large numbers."
      ]
    },
    {
      "cell_type": "markdown",
      "metadata": {
        "id": "ijmpgYnKYklI"
      },
      "source": [
        "##### 2. What is/are the insight(s) found from the chart?"
      ]
    },
    {
      "cell_type": "markdown",
      "metadata": {
        "id": "PSx9atu2YklI"
      },
      "source": [
        "Iraq is the country that has had the most number of attacks in the world between the years 1970 and 2017."
      ]
    },
    {
      "cell_type": "markdown",
      "metadata": {
        "id": "-JiQyfWJYklI"
      },
      "source": [
        "##### 3. Will the gained insights help creating a positive business impact?\n",
        "Are there any insights that lead to negative growth? Justify with specific reason."
      ]
    },
    {
      "cell_type": "markdown",
      "metadata": {
        "id": "BcBbebzrYklV"
      },
      "source": [
        "The insight about Iraq being the country with the highest number of\n",
        "<br>attacks provides valuable information for businesses operating\n",
        "<br>in or considering investments in Iraq. It allows them to assess\n",
        "<br>the security risks associated with the region comprehensively.\n",
        "\n",
        "The insights about Iraq's high number of attacks can undoubtedly\n",
        "<br>help businesses create a positive impact by enabling them to\n",
        "<br>proactively manage risks and enhance security measures.\n",
        "<br>However, addressing the broader economic and social aspects is\n",
        "<br>crucial for sustained positive growth in the region."
      ]
    },
    {
      "cell_type": "markdown",
      "metadata": {
        "id": "EM7whBJCYoAo"
      },
      "source": [
        "#### Chart - 3"
      ]
    },
    {
      "cell_type": "markdown",
      "source": [
        "Distribution of attacks by Region"
      ],
      "metadata": {
        "id": "BmaFfmRTOnmz"
      }
    },
    {
      "cell_type": "code",
      "execution_count": null,
      "metadata": {
        "id": "_4TGzeBnDh6s"
      },
      "outputs": [],
      "source": [
        "# Bar chart for distribution of attacks by region\n",
        "plt.figure(figsize=(10, 8))\n",
        "sns.countplot(x='Region', data=df , hue='Region' , order=df['Region'].value_counts().index)\n",
        "plt.title('Distribution of Attacks by Region')\n",
        "plt.xlabel('Region')\n",
        "plt.ylabel('Number of Attacks')\n",
        "plt.xticks(rotation=45 , ha= 'right')\n",
        "plt.show()"
      ]
    },
    {
      "cell_type": "markdown",
      "metadata": {
        "id": "fge-S5ZAYoAp"
      },
      "source": [
        "##### 1. Why did you pick the specific chart?"
      ]
    },
    {
      "cell_type": "markdown",
      "metadata": {
        "id": "5dBItgRVYoAp"
      },
      "source": [
        "A bar chart is selected to show the distribution of terrorist attacks across different regions."
      ]
    },
    {
      "cell_type": "markdown",
      "metadata": {
        "id": "85gYPyotYoAp"
      },
      "source": [
        "##### 2. What is/are the insight(s) found from the chart?"
      ]
    },
    {
      "cell_type": "markdown",
      "metadata": {
        "id": "4jstXR6OYoAp"
      },
      "source": [
        "The chart provides insights into which regions are most affected by terrorism which is Sub-Saharan Africa"
      ]
    },
    {
      "cell_type": "markdown",
      "metadata": {
        "id": "RoGjAbkUYoAp"
      },
      "source": [
        "##### 3. Will the gained insights help creating a positive business impact?\n",
        "Are there any insights that lead to negative growth? Justify with specific reason."
      ]
    },
    {
      "cell_type": "markdown",
      "metadata": {
        "id": "zfJ8IqMcYoAp"
      },
      "source": [
        "Businesses operating in or considering expansion to specific regions can assess the security risks and tailor strategies accordingly."
      ]
    },
    {
      "cell_type": "markdown",
      "metadata": {
        "id": "4Of9eVA-YrdM"
      },
      "source": [
        "#### Chart - 4"
      ]
    },
    {
      "cell_type": "markdown",
      "source": [
        "Types of weapons used"
      ],
      "metadata": {
        "id": "9fNzySFmOj84"
      }
    },
    {
      "cell_type": "code",
      "execution_count": null,
      "metadata": {
        "id": "8Nl96C2CDh6t"
      },
      "outputs": [],
      "source": [
        "sns.countplot(data=df,x='Weapon_type',order=df['Weapon_type'].value_counts().index , hue ='Weapon_type' )\n",
        "plt.xticks(rotation=90)\n",
        "plt.title('Types of Weapon')\n",
        "plt.xticks(rotation=45, ha='right')\n",
        "plt.show()"
      ]
    },
    {
      "cell_type": "markdown",
      "metadata": {
        "id": "iky9q4vBYrdO"
      },
      "source": [
        "##### 1. Why did you pick the specific chart?"
      ]
    },
    {
      "cell_type": "markdown",
      "metadata": {
        "id": "aJRCwT6DYrdO"
      },
      "source": [
        "What kind of weapons these terrorist groups are using in most of the attacks."
      ]
    },
    {
      "cell_type": "markdown",
      "metadata": {
        "id": "F6T5p64dYrdO"
      },
      "source": [
        "##### 2. What is/are the insight(s) found from the chart?"
      ]
    },
    {
      "cell_type": "markdown",
      "metadata": {
        "id": "Xx8WAJvtYrdO"
      },
      "source": [
        "Explosives are used in most of the terrorist attacks followed by firearms. <br>\n",
        "Chemical , Radiological and car_truck bombs , Biological weapons are used very very less times.\n"
      ]
    },
    {
      "cell_type": "markdown",
      "metadata": {
        "id": "jLNxxz7MYrdP"
      },
      "source": [
        "Answer Here"
      ]
    },
    {
      "cell_type": "markdown",
      "metadata": {
        "id": "bamQiAODYuh1"
      },
      "source": [
        "#### Chart - 5"
      ]
    },
    {
      "cell_type": "markdown",
      "source": [
        "Groups with highest terror attacks"
      ],
      "metadata": {
        "id": "wcO9f2yLOgDu"
      }
    },
    {
      "cell_type": "code",
      "source": [
        "\n",
        "# Calculate value counts once\n",
        "group_counts = df['Group'].value_counts()\n",
        "\n",
        "# Choose a color palette (adjust as needed)\n",
        "colors = sns.color_palette(\"viridis\", n_colors=len(group_counts))\n",
        "\n",
        "# Use a larger figure size\n",
        "plt.figure(figsize=(12, 8))\n",
        "\n",
        "# Plot a bar plot with matplotlib and color palette\n",
        "plt.bar(group_counts.index[1:16], group_counts.values[1:16], color=colors[1:16], alpha=0.7)\n",
        "\n",
        "plt.title('Groups with Highest Terror Attacks')\n",
        "plt.xticks(rotation=45 , ha='right')\n",
        "plt.show()"
      ],
      "metadata": {
        "id": "EsbvJepxNNVJ"
      },
      "execution_count": null,
      "outputs": []
    },
    {
      "cell_type": "markdown",
      "metadata": {
        "id": "QHF8YVU7Yuh3"
      },
      "source": [
        "##### 1. Why did you pick the specific chart?"
      ]
    },
    {
      "cell_type": "markdown",
      "metadata": {
        "id": "dcxuIMRPYuh3"
      },
      "source": [
        "Largest attack making groups."
      ]
    },
    {
      "cell_type": "markdown",
      "metadata": {
        "id": "GwzvFGzlYuh3"
      },
      "source": [
        "##### 2. What is/are the insight(s) found from the chart?"
      ]
    },
    {
      "cell_type": "markdown",
      "metadata": {
        "id": "uyqkiB8YYuh3"
      },
      "source": [
        "Taliban done most of the attacks more than 7000.<br>\n",
        "LTTE done doing least attacks that is around. <br>"
      ]
    },
    {
      "cell_type": "markdown",
      "metadata": {
        "id": "qYpmQ266Yuh3"
      },
      "source": [
        "##### 3. Will the gained insights help creating a positive business impact?\n",
        "Are there any insights that lead to negative growth? Justify with specific reason."
      ]
    },
    {
      "cell_type": "markdown",
      "metadata": {
        "id": "_WtzZ_hCYuh4"
      },
      "source": [
        "Answer Here"
      ]
    },
    {
      "cell_type": "markdown",
      "metadata": {
        "id": "TZoYdEIbDh6u"
      },
      "source": [
        "#### Chart - 6"
      ]
    },
    {
      "cell_type": "markdown",
      "source": [
        "Top target types"
      ],
      "metadata": {
        "id": "7I2jhQpbOcrx"
      }
    },
    {
      "cell_type": "code",
      "execution_count": null,
      "metadata": {
        "id": "hQjxJyVLDh6u"
      },
      "outputs": [],
      "source": [
        "top_target_types = df['Target_type'].value_counts()[:10]\n",
        "\n",
        "# Setting the size of the plot\n",
        "plt.figure(figsize=(10, 10))\n",
        "\n",
        "# Creating a pie plot\n",
        "plt.pie(top_target_types, labels=top_target_types.index, autopct='%1.1f%%', startangle=70 )\n",
        "\n",
        "# Setting the title of the pie chart\n",
        "plt.title('Top Target Type', y=1 , color='red')\n",
        "\n",
        "plt.show()"
      ]
    },
    {
      "cell_type": "markdown",
      "metadata": {
        "id": "bbFf2-_FphqN"
      },
      "source": [
        "##### 1. Why did you pick the specific chart?"
      ]
    },
    {
      "cell_type": "markdown",
      "metadata": {
        "id": "loh7H2nzphqN"
      },
      "source": [
        "To analyse , on which institutions attacks are happening"
      ]
    },
    {
      "cell_type": "markdown",
      "metadata": {
        "id": "_ouA3fa0phqN"
      },
      "source": [
        "##### 2. What is/are the insight(s) found from the chart?"
      ]
    },
    {
      "cell_type": "markdown",
      "metadata": {
        "id": "VECbqPI7phqN"
      },
      "source": [
        "1) Terrorist Groups are more likely to attack on the Big Private properties like Malls or on Citizens. /\n",
        "2) Government establishments like Military, Police and Government(General) were 2nd, 3rd and 4rth in the top list."
      ]
    },
    {
      "cell_type": "markdown",
      "metadata": {
        "id": "PIIx-8_IphqN"
      },
      "source": [
        "#### Chart - 7"
      ]
    },
    {
      "cell_type": "markdown",
      "source": [
        "Attack Type vs Groups"
      ],
      "metadata": {
        "id": "kA5ESH3LOZ9Y"
      }
    },
    {
      "cell_type": "code",
      "execution_count": null,
      "metadata": {
        "id": "lqAIGUfyphqO"
      },
      "outputs": [],
      "source": [
        "\n",
        "plt.subplots(figsize=(15,6))\n",
        "sns.countplot(data=df, x='Group',order=df['Group'].value_counts()[1:10].index, hue='AttackType')\n",
        "plt.xticks(rotation=90)\n",
        "plt.xlabel('Group' , color ='red')\n",
        "plt.ylabel('Count', color = 'red')\n",
        "plt.title('Attack Type vs. Groups', color = 'red')\n",
        "plt.xticks(rotation = 45 , ha='right')\n",
        "plt.show()"
      ]
    },
    {
      "cell_type": "markdown",
      "metadata": {
        "id": "5Ud-bF35Dh6v"
      },
      "source": [
        "Conclusion :\n",
        "1. ISIL do attack by bombing/explosives most of the time.\n",
        "2. Taliban does armed attacks most of the times"
      ]
    },
    {
      "cell_type": "markdown",
      "metadata": {
        "id": "eaPR9C_PDh6v"
      },
      "source": [
        "## Chart- 7"
      ]
    },
    {
      "cell_type": "markdown",
      "source": [
        "Most Attacked Cities in India by Type of Attacks"
      ],
      "metadata": {
        "id": "BJrZMOd1OJwd"
      }
    },
    {
      "cell_type": "code",
      "execution_count": null,
      "metadata": {
        "id": "vy6r0aDPDh6v"
      },
      "outputs": [],
      "source": [
        "df.columns"
      ]
    },
    {
      "cell_type": "code",
      "execution_count": null,
      "metadata": {
        "id": "d5Xn8-X4Dh6v"
      },
      "outputs": [],
      "source": [
        "import seaborn as sns\n",
        "import matplotlib.pyplot as plt\n",
        "\n",
        "# Assuming df is your DataFrame\n",
        "df_india = df[df['Country'] == 'India']\n",
        "\n",
        "# Count the number of attacks in each city by attack type\n",
        "city_attack_types_count = df_india.groupby(['city', 'AttackType']).size().unstack(fill_value=0)\n",
        "\n",
        "# Select the top 15 cities\n",
        "top_15_cities = city_attack_types_count.sum(axis=1).nlargest(15).index\n",
        "city_attack_types_count_top_15 = city_attack_types_count.loc[top_15_cities]\n",
        "\n",
        "# Set Seaborn style\n",
        "sns.set(style=\"whitegrid\")\n",
        "\n",
        "# Plotting the stacked bar plot\n",
        "plt.figure(figsize=(12, 8))\n",
        "city_attack_types_count_top_15.plot(kind='bar', stacked=True, cmap='viridis', ax=plt.gca())\n",
        "plt.title('Top 15 Most Attacked Cities in India by Attack Type')\n",
        "plt.xlabel('City')\n",
        "plt.ylabel('Number of Attacks')\n",
        "plt.xticks(rotation=45, ha='right')\n",
        "plt.legend(title='Attack Type', bbox_to_anchor=(0.55, 1), loc='upper left')\n",
        "plt.show()\n"
      ]
    },
    {
      "cell_type": "markdown",
      "source": [
        "## Chart - 8"
      ],
      "metadata": {
        "id": "d3o8TU1_JtkC"
      }
    },
    {
      "cell_type": "markdown",
      "source": [
        "Top Affected Cities in the world"
      ],
      "metadata": {
        "id": "t94wD4OWODuh"
      }
    },
    {
      "cell_type": "code",
      "source": [
        "plt.subplots(figsize=(12,6))\n",
        "top=df['city'].value_counts()[:20].to_frame().reset_index()\n",
        "top.columns= ['city','Attacks_Counts']\n",
        "ax = sns.barplot(x='city',y='Attacks_Counts', data= top, palette='magma')\n",
        "plt.title('Top city Affected')\n",
        "plt.xlabel('city')\n",
        "plt.ylabel('Count')\n",
        "plt.xticks(rotation=80)\n",
        "plt.show()"
      ],
      "metadata": {
        "id": "060_yRc-KJst"
      },
      "execution_count": null,
      "outputs": []
    },
    {
      "cell_type": "markdown",
      "source": [
        "## Chart - 9"
      ],
      "metadata": {
        "id": "a4qt8ybcLYtk"
      }
    },
    {
      "cell_type": "markdown",
      "source": [
        "Terrorist attacks trends by Regions\n"
      ],
      "metadata": {
        "id": "qWdEoDquO1xu"
      }
    },
    {
      "cell_type": "code",
      "source": [
        "year_attacks_region = df.groupby(['Year','Region']).size().reset_index(name='count')"
      ],
      "metadata": {
        "id": "8FBcW1QNL62g"
      },
      "execution_count": null,
      "outputs": []
    },
    {
      "cell_type": "code",
      "source": [
        "sns.lineplot(x='Year',y='count',hue='Region',data=year_attacks_region)\n",
        "plt.title('Terrorist Attacks Trends in Regions from 1970 to 2017')\n",
        "plt.xlabel('Year')\n",
        "plt.ylabel('Number of Attacks')\n",
        "plt.show()\n"
      ],
      "metadata": {
        "id": "ddBhGN5qMetH"
      },
      "execution_count": null,
      "outputs": []
    },
    {
      "cell_type": "markdown",
      "source": [
        "# Chart 10"
      ],
      "metadata": {
        "id": "u3AguOGzMwVu"
      }
    },
    {
      "cell_type": "markdown",
      "source": [
        "Terrorist Attacks by country"
      ],
      "metadata": {
        "id": "6TVssXdRPDHW"
      }
    },
    {
      "cell_type": "code",
      "source": [
        "import plotly.express as px\n",
        "\n",
        "# Group the data by country and count the number of attacks\n",
        "country_counts = df['Country'].value_counts().reset_index()\n",
        "country_counts.columns = ['Country', 'Attack Count']\n",
        "\n",
        "# Create the choropleth map\n",
        "fig = px.choropleth(country_counts, locations='Country', locationmode='country names', color='Attack Count',\n",
        "                    title='Terrorist Attacks by Country',\n",
        "                    labels={'Attack Count': 'Number of Attacks'},\n",
        "                    hover_name='Country',\n",
        "                    color_continuous_scale='viridis',  # Change the color scale (you can try other color scales)\n",
        "                    projection='equirectangular',  # Use 'natural earth' projection for a better world map\n",
        "                    width=1000, height=600)  # Adjust the width and height for better visualization\n",
        "\n",
        "fig.update_geos(\n",
        "    showcoastlines=True, coastlinecolor=\"Black\", showland=True, landcolor=\"white\", showocean=True, oceancolor=\"#3282b8\"\n",
        ")\n",
        "\n",
        "# Customize color bar title\n",
        "fig.update_coloraxes(colorbar_title='Number of Attacks')\n",
        "\n",
        "fig.show()\n"
      ],
      "metadata": {
        "id": "mwUe_r0rMuWS"
      },
      "execution_count": null,
      "outputs": []
    },
    {
      "cell_type": "markdown",
      "source": [
        "## Chart - 11"
      ],
      "metadata": {
        "id": "64YxPlAqO2Th"
      }
    },
    {
      "cell_type": "markdown",
      "source": [
        "Attack Types - Yearly"
      ],
      "metadata": {
        "id": "mW3AH8OxP3hb"
      }
    },
    {
      "cell_type": "code",
      "source": [
        "# # Attack Types - Yearly\n",
        "attack_type_counts = df.groupby(['Year', 'AttackType'])['Country'].count().unstack()\n",
        "attack_type_counts.plot(kind='area', stacked=True, figsize=(12, 6))\n",
        "plt.title('Yearly Distribution of Attack Types')\n",
        "plt.xlabel('Year')\n",
        "plt.ylabel('Number of Attacks')\n",
        "plt.legend(title='Attack Type')\n",
        "plt.show()"
      ],
      "metadata": {
        "id": "WELeHiVFP4in"
      },
      "execution_count": null,
      "outputs": []
    },
    {
      "cell_type": "markdown",
      "source": [
        "## Chart - 12"
      ],
      "metadata": {
        "id": "_8KtgGhFQXvz"
      }
    },
    {
      "cell_type": "markdown",
      "source": [
        "Top 10 terrorist groups in India"
      ],
      "metadata": {
        "id": "nOXvaySkPKyZ"
      }
    },
    {
      "cell_type": "code",
      "source": [
        "import matplotlib.pyplot as plt\n",
        "import seaborn as sns\n",
        "\n",
        "# Filter data for attacks in India\n",
        "df_india = df[df['Country'] == 'India']\n",
        "\n",
        "# Count the attacks by terrorist group\n",
        "group_counts = df_india['Group'].value_counts().sort_values(ascending=False)\n",
        "\n",
        "# Select the top N groups\n",
        "top_groups = group_counts.head(10)\n",
        "\n",
        "# Plot the bar chart\n",
        "plt.figure(figsize=(10, 6))\n",
        "sns.barplot(x=top_groups.values, y=top_groups.index, palette='viridis')\n",
        "plt.title('Top 10 Most Active Terrorist Groups in India')\n",
        "plt.xlabel('Number of Attacks')\n",
        "plt.ylabel('Terrorist Group')\n",
        "plt.show()\n"
      ],
      "metadata": {
        "id": "6e0acvcNQXK-"
      },
      "execution_count": null,
      "outputs": []
    },
    {
      "cell_type": "markdown",
      "source": [
        "# Chart - 13"
      ],
      "metadata": {
        "id": "tx0jA-q5TEgC"
      }
    },
    {
      "cell_type": "markdown",
      "source": [
        "Top 10 Targets in India"
      ],
      "metadata": {
        "id": "5N8OecijUaQN"
      }
    },
    {
      "cell_type": "code",
      "source": [
        "# Group by target type and calculate total casualties\n",
        "top_targets = df_india.groupby('Target')['Killed', 'Wounded'].sum().sum(axis=1).sort_values(ascending=False).head(10)\n",
        "top_targets\n",
        "# Plot the bar chart\n",
        "plt.figure(figsize=(12, 8))\n",
        "sns.barplot(x=top_targets.values, y=top_targets.index, palette='deep')\n",
        "plt.title('Top 15 Targets with Most Casualties')\n",
        "plt.xlabel('Total Casualties')\n",
        "plt.ylabel('Target Type')\n",
        "plt.show()\n"
      ],
      "metadata": {
        "id": "Ioy592n0TGTa"
      },
      "execution_count": null,
      "outputs": []
    },
    {
      "cell_type": "markdown",
      "source": [
        "# Chart - 14"
      ],
      "metadata": {
        "id": "_ma6CfNsVgTE"
      }
    },
    {
      "cell_type": "markdown",
      "source": [
        "Target and weapon wise terrorist attacks with intensity as Casualties.\n",
        "\n"
      ],
      "metadata": {
        "id": "s33NYV2RPQip"
      }
    },
    {
      "cell_type": "code",
      "source": [
        "df.columns"
      ],
      "metadata": {
        "id": "QO3BBr6DVrtS"
      },
      "execution_count": null,
      "outputs": []
    },
    {
      "cell_type": "code",
      "source": [
        "\n",
        "df['Casualties'] = df['Killed'] + df['Wounded']\n",
        "\n",
        "plt.figure(figsize=(12, 8))\n",
        "sns.scatterplot(x='Weapon_type', y='Target_type', size='Casualties', data=df, sizes=(20, 1000),\n",
        "                hue='Casualties', palette='viridis', alpha=0.7)\n",
        "\n",
        "plt.title('Target-wise Terrorism Attacks')\n",
        "plt.xlabel('Weapon Type')\n",
        "plt.ylabel('Target Type')\n",
        "plt.xticks(rotation=45 , ha='right')\n",
        "plt.legend(title='Casualties')\n",
        "\n",
        "plt.show()\n"
      ],
      "metadata": {
        "id": "BvbyXVlNVfYi"
      },
      "execution_count": null,
      "outputs": []
    },
    {
      "cell_type": "markdown",
      "source": [
        "## Chart 15"
      ],
      "metadata": {
        "id": "N4A0hv7IYMdE"
      }
    },
    {
      "cell_type": "markdown",
      "source": [
        "Target and Attack type wise terrorist attacks with intensisty as casualties."
      ],
      "metadata": {
        "id": "NPdNBNaEPeJs"
      }
    },
    {
      "cell_type": "code",
      "source": [
        "plt.figure(figsize=(12, 8))\n",
        "sns.scatterplot(x='AttackType', y='Target_type', size='Casualties', data=df, sizes=(20, 1000),\n",
        "                hue='Casualties', palette='viridis', alpha=0.8)\n",
        "\n",
        "plt.title('Attack Type -wise Terrorism Attacks')\n",
        "plt.xlabel('Attack Type')\n",
        "plt.ylabel('Target Type')\n",
        "plt.xticks(rotation=45 , ha='right')\n",
        "plt.legend(title='Casualties')\n",
        "\n",
        "plt.show()"
      ],
      "metadata": {
        "id": "N-R7nWpSYML5"
      },
      "execution_count": null,
      "outputs": []
    },
    {
      "cell_type": "markdown",
      "metadata": {
        "id": "JcMwzZxoAimU"
      },
      "source": [
        "## **5. Solution to Business Objective**"
      ]
    },
    {
      "cell_type": "markdown",
      "metadata": {
        "id": "8G2x9gOozGDZ"
      },
      "source": [
        "- Using *predictive modeling* to identify potential hotspots for terrorist activities. This involves analyzing historical data on terrorist incidents and identifying *patterns* that could indicate *future* attacks. We can use various machine learning algorithms such as decision trees, random forests, and neural networks to develop predictive models. These models can then be used to generate risk scores for different regions and types of targets, allowing businesses to prioritize their *risk management strategies such as security protocols, insurance coverage, and contingency plans based on the identified information.*\n",
        "- Analyze the Global Terrorism dataset to identify *vulnerable regions and targets*.\n",
        "- Develop *risk management strategies*\n",
        "- Monitor and assess the effectiveness of risk management strategies over time using the Global Terrorism dataset.\n",
        "- Leverage insights from the dataset to proactively manage exposure to terrorism-related *risks*.\n",
        "- Ultimately reduce the impact of terrorism on business operations and human lives.\n"
      ]
    },
    {
      "cell_type": "markdown",
      "metadata": {
        "id": "gCX9965dhzqZ"
      },
      "source": [
        "# **Conclusion**"
      ]
    },
    {
      "cell_type": "markdown",
      "metadata": {
        "id": "Fjb1IsQkh3yE"
      },
      "source": [
        "The global landscape is witnessing a concerning rise in the incidence of terrorism attacks, posing a growing threat to peace and security. This unsettling trend is particularly pronounced in two regions: the Middle East and North Africa, as well as South America, where the number of terrorist attacks has surged significantly.\n",
        "\n",
        "One of the striking aspects of this worrisome phenomenon is the high rate of success achieved by terrorist groups and individuals. Alarmingly, a staggering 89% of these attacks have been successful, resulting in a range of devastating consequences for the affected populations. This success rate underscores the effectiveness and persistence of these malicious actors in carrying out their destructive agendas.\n",
        "\n",
        "Furthermore, the data reveals that the use of bombings and explosions as tactics in these attacks has inflicted the most casualties. These incidents not only lead to loss of life but also cause severe injuries and widespread damage to property and infrastructure. The prevalence of such tactics highlights the devastating impact of explosive devices and the need for comprehensive efforts to counteract the proliferation and use of explosives on a global scale.\n",
        "\n",
        "As terrorism continues to pose a significant global challenge, addressing the root causes, enhancing intelligence and security measures, and promoting international cooperation remain crucial in mitigating the impact and working toward a more secure and peaceful world."
      ]
    },
    {
      "cell_type": "markdown",
      "metadata": {
        "id": "54RY9OuzDh6w"
      },
      "source": []
    }
  ],
  "metadata": {
    "colab": {
      "collapsed_sections": [
        "vncDsAP0Gaoa",
        "iky9q4vBYrdO",
        "F6T5p64dYrdO",
        "bamQiAODYuh1",
        "QHF8YVU7Yuh3",
        "GwzvFGzlYuh3",
        "qYpmQ266Yuh3"
      ],
      "private_outputs": true,
      "provenance": [],
      "include_colab_link": true
    },
    "kernelspec": {
      "display_name": "Python 3",
      "name": "python3"
    },
    "language_info": {
      "codemirror_mode": {
        "name": "ipython",
        "version": 3
      },
      "file_extension": ".py",
      "mimetype": "text/x-python",
      "name": "python",
      "nbconvert_exporter": "python",
      "pygments_lexer": "ipython3",
      "version": "3.11.5"
    }
  },
  "nbformat": 4,
  "nbformat_minor": 0
}